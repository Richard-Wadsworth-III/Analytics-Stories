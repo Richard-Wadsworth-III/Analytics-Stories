{
 "cells": [
  {
   "cell_type": "markdown",
   "id": "82ba45e2",
   "metadata": {},
   "source": [
    "# Vietnam Draft Lottery Analysis\n",
    "\n",
    "We'll need some modules to complete this, so I'll set up those modules in the first block"
   ]
  },
  {
   "cell_type": "code",
   "execution_count": 12,
   "id": "e336bf20",
   "metadata": {},
   "outputs": [],
   "source": [
    "import pandas as pd\n",
    "import scipy.stats as stats\n",
    "import numpy as np"
   ]
  },
  {
   "cell_type": "markdown",
   "id": "fdbf3d36",
   "metadata": {},
   "source": [
    "Then, read the Excel sheet in"
   ]
  },
  {
   "cell_type": "code",
   "execution_count": 4,
   "id": "03743147",
   "metadata": {},
   "outputs": [],
   "source": [
    "df = pd.read_excel(r'C:\\Users\\tsant\\Documents\\Data Science\\Data_Stories\\Chapter 02\\DraftData_TS.xlsx', sheet_name = 'Raw_Data')"
   ]
  },
  {
   "cell_type": "markdown",
   "id": "d25f2dd1",
   "metadata": {},
   "source": [
    "Explore data frame"
   ]
  },
  {
   "cell_type": "code",
   "execution_count": 5,
   "id": "b023d735",
   "metadata": {},
   "outputs": [
    {
     "name": "stdout",
     "output_type": "stream",
     "text": [
      "<class 'pandas.core.frame.DataFrame'>\n",
      "RangeIndex: 366 entries, 0 to 365\n",
      "Data columns (total 5 columns):\n",
      " #   Column  Non-Null Count  Dtype         \n",
      "---  ------  --------------  -----         \n",
      " 0   DATE    366 non-null    datetime64[ns]\n",
      " 1   Month   366 non-null    int64         \n",
      " 2   Day     366 non-null    int64         \n",
      " 3   N69     366 non-null    int64         \n",
      " 4   N70     366 non-null    object        \n",
      "dtypes: datetime64[ns](1), int64(3), object(1)\n",
      "memory usage: 14.4+ KB\n"
     ]
    }
   ],
   "source": [
    "df.shape #similar to dim() in r\n",
    "df.head\n",
    "df.tail\n",
    "df.info() #similar to str() in r"
   ]
  },
  {
   "cell_type": "code",
   "execution_count": 6,
   "id": "9626a193",
   "metadata": {},
   "outputs": [],
   "source": [
    "#turn the N70 column from char to int and ignore or force the missing data (*) into compliance\n",
    "df['N70'] = pd.to_numeric(df['N70'], errors = 'coerce')"
   ]
  },
  {
   "cell_type": "code",
   "execution_count": 7,
   "id": "e1ecfdfd",
   "metadata": {},
   "outputs": [
    {
     "name": "stdout",
     "output_type": "stream",
     "text": [
      "<class 'pandas.core.frame.DataFrame'>\n",
      "RangeIndex: 366 entries, 0 to 365\n",
      "Data columns (total 5 columns):\n",
      " #   Column  Non-Null Count  Dtype         \n",
      "---  ------  --------------  -----         \n",
      " 0   DATE    366 non-null    datetime64[ns]\n",
      " 1   Month   366 non-null    int64         \n",
      " 2   Day     366 non-null    int64         \n",
      " 3   N69     366 non-null    int64         \n",
      " 4   N70     365 non-null    float64       \n",
      "dtypes: datetime64[ns](1), float64(1), int64(3)\n",
      "memory usage: 14.4 KB\n"
     ]
    }
   ],
   "source": [
    "#check that things are as expected\n",
    "df.info()"
   ]
  },
  {
   "cell_type": "code",
   "execution_count": 10,
   "id": "90621912",
   "metadata": {},
   "outputs": [],
   "source": [
    "#Calculate averages for all columns grouped by month\n",
    "means = df.groupby('Month').mean()\n",
    "#make array of expected average\n",
    "expected_average = [(366 + 1)/2]*12\n",
    "#make an array of month codes\n",
    "months = list(range(1,13))\n",
    "#slap that new array into dataframe\n",
    "means['Expected_Avg'] = expected_average \n",
    "means['Months'] = months"
   ]
  },
  {
   "cell_type": "code",
   "execution_count": 11,
   "id": "172b597b",
   "metadata": {},
   "outputs": [
    {
     "data": {
      "text/html": [
       "<div>\n",
       "<style scoped>\n",
       "    .dataframe tbody tr th:only-of-type {\n",
       "        vertical-align: middle;\n",
       "    }\n",
       "\n",
       "    .dataframe tbody tr th {\n",
       "        vertical-align: top;\n",
       "    }\n",
       "\n",
       "    .dataframe thead th {\n",
       "        text-align: right;\n",
       "    }\n",
       "</style>\n",
       "<table border=\"1\" class=\"dataframe\">\n",
       "  <thead>\n",
       "    <tr style=\"text-align: right;\">\n",
       "      <th></th>\n",
       "      <th>Day</th>\n",
       "      <th>N69</th>\n",
       "      <th>N70</th>\n",
       "      <th>Expected_Avg</th>\n",
       "      <th>Months</th>\n",
       "    </tr>\n",
       "    <tr>\n",
       "      <th>Month</th>\n",
       "      <th></th>\n",
       "      <th></th>\n",
       "      <th></th>\n",
       "      <th></th>\n",
       "      <th></th>\n",
       "    </tr>\n",
       "  </thead>\n",
       "  <tbody>\n",
       "    <tr>\n",
       "      <th>1</th>\n",
       "      <td>16.0</td>\n",
       "      <td>201.161290</td>\n",
       "      <td>151.838710</td>\n",
       "      <td>183.5</td>\n",
       "      <td>1</td>\n",
       "    </tr>\n",
       "    <tr>\n",
       "      <th>2</th>\n",
       "      <td>15.0</td>\n",
       "      <td>202.965517</td>\n",
       "      <td>198.892857</td>\n",
       "      <td>183.5</td>\n",
       "      <td>2</td>\n",
       "    </tr>\n",
       "    <tr>\n",
       "      <th>3</th>\n",
       "      <td>16.0</td>\n",
       "      <td>225.806452</td>\n",
       "      <td>179.774194</td>\n",
       "      <td>183.5</td>\n",
       "      <td>3</td>\n",
       "    </tr>\n",
       "    <tr>\n",
       "      <th>4</th>\n",
       "      <td>15.5</td>\n",
       "      <td>203.666667</td>\n",
       "      <td>182.166667</td>\n",
       "      <td>183.5</td>\n",
       "      <td>4</td>\n",
       "    </tr>\n",
       "    <tr>\n",
       "      <th>5</th>\n",
       "      <td>16.0</td>\n",
       "      <td>207.967742</td>\n",
       "      <td>183.516129</td>\n",
       "      <td>183.5</td>\n",
       "      <td>5</td>\n",
       "    </tr>\n",
       "    <tr>\n",
       "      <th>6</th>\n",
       "      <td>15.5</td>\n",
       "      <td>195.733333</td>\n",
       "      <td>194.566667</td>\n",
       "      <td>183.5</td>\n",
       "      <td>6</td>\n",
       "    </tr>\n",
       "    <tr>\n",
       "      <th>7</th>\n",
       "      <td>16.0</td>\n",
       "      <td>181.548387</td>\n",
       "      <td>183.580645</td>\n",
       "      <td>183.5</td>\n",
       "      <td>7</td>\n",
       "    </tr>\n",
       "    <tr>\n",
       "      <th>8</th>\n",
       "      <td>16.0</td>\n",
       "      <td>173.451613</td>\n",
       "      <td>194.354839</td>\n",
       "      <td>183.5</td>\n",
       "      <td>8</td>\n",
       "    </tr>\n",
       "    <tr>\n",
       "      <th>9</th>\n",
       "      <td>15.5</td>\n",
       "      <td>157.300000</td>\n",
       "      <td>209.866667</td>\n",
       "      <td>183.5</td>\n",
       "      <td>9</td>\n",
       "    </tr>\n",
       "    <tr>\n",
       "      <th>10</th>\n",
       "      <td>16.0</td>\n",
       "      <td>182.451613</td>\n",
       "      <td>172.967742</td>\n",
       "      <td>183.5</td>\n",
       "      <td>10</td>\n",
       "    </tr>\n",
       "    <tr>\n",
       "      <th>11</th>\n",
       "      <td>15.5</td>\n",
       "      <td>148.733333</td>\n",
       "      <td>163.133333</td>\n",
       "      <td>183.5</td>\n",
       "      <td>11</td>\n",
       "    </tr>\n",
       "    <tr>\n",
       "      <th>12</th>\n",
       "      <td>16.0</td>\n",
       "      <td>121.548387</td>\n",
       "      <td>183.451613</td>\n",
       "      <td>183.5</td>\n",
       "      <td>12</td>\n",
       "    </tr>\n",
       "  </tbody>\n",
       "</table>\n",
       "</div>"
      ],
      "text/plain": [
       "        Day         N69         N70  Expected_Avg  Months\n",
       "Month                                                    \n",
       "1      16.0  201.161290  151.838710         183.5       1\n",
       "2      15.0  202.965517  198.892857         183.5       2\n",
       "3      16.0  225.806452  179.774194         183.5       3\n",
       "4      15.5  203.666667  182.166667         183.5       4\n",
       "5      16.0  207.967742  183.516129         183.5       5\n",
       "6      15.5  195.733333  194.566667         183.5       6\n",
       "7      16.0  181.548387  183.580645         183.5       7\n",
       "8      16.0  173.451613  194.354839         183.5       8\n",
       "9      15.5  157.300000  209.866667         183.5       9\n",
       "10     16.0  182.451613  172.967742         183.5      10\n",
       "11     15.5  148.733333  163.133333         183.5      11\n",
       "12     16.0  121.548387  183.451613         183.5      12"
      ]
     },
     "execution_count": 11,
     "metadata": {},
     "output_type": "execute_result"
    }
   ],
   "source": [
    "means"
   ]
  },
  {
   "cell_type": "code",
   "execution_count": 13,
   "id": "d697c5fb",
   "metadata": {},
   "outputs": [
    {
     "data": {
      "text/plain": [
       "<AxesSubplot:xlabel='Months'>"
      ]
     },
     "execution_count": 13,
     "metadata": {},
     "output_type": "execute_result"
    },
    {
     "data": {
      "image/png": "[encoded data removed]",
      "text/plain": [
       "<Figure size 720x648 with 1 Axes>"
      ]
     },
     "metadata": {
      "needs_background": "light"
     },
     "output_type": "display_data"
    }
   ],
   "source": [
    "#Create a line graph\n",
    "means.plot(x=\"Months\", y=[\"N69\",\"N70\", \"Expected_Avg\"], kind=\"line\", figsize = (10,9))"
   ]
  },
  {
   "cell_type": "markdown",
   "id": "a5ca7076",
   "metadata": {},
   "source": [
    "Last, we'll conduct t.tests to compare the first half with the second half of the year in 1969, and 1970\n",
    "1) we will have to subset the data\n",
    "2) we will conduct the tests"
   ]
  },
  {
   "cell_type": "code",
   "execution_count": 14,
   "id": "a24a7932",
   "metadata": {},
   "outputs": [],
   "source": [
    "data_sub1 = means.loc[means['Months'] <= 6]  #subsets the dataframe for months 1 - 6\n",
    "data_sub2 = means.loc[means['Months'] > 6] #subsets the dataframe for months 7 - 12"
   ]
  },
  {
   "cell_type": "code",
   "execution_count": 15,
   "id": "27c31d1f",
   "metadata": {},
   "outputs": [
    {
     "data": {
      "text/plain": [
       "Ttest_indResult(statistic=4.328426904207655, pvalue=0.001493234444951034)"
      ]
     },
     "execution_count": 15,
     "metadata": {},
     "output_type": "execute_result"
    }
   ],
   "source": [
    "#Compare the first and second halves of 1969\n",
    "stats.ttest_ind(a = data_sub1['N69'], b=data_sub2['N69'], equal_var = True)"
   ]
  },
  {
   "cell_type": "code",
   "execution_count": 16,
   "id": "7ec0ac29",
   "metadata": {},
   "outputs": [
    {
     "data": {
      "text/plain": [
       "Ttest_indResult(statistic=-0.2920557087480774, pvalue=0.7762132997089741)"
      ]
     },
     "execution_count": 16,
     "metadata": {},
     "output_type": "execute_result"
    }
   ],
   "source": [
    "#Compare the first and second halves of 1970\n",
    "stats.ttest_ind(a = data_sub1['N70'], b=data_sub2['N70'], equal_var = True)"
   ]
  },
  {
   "cell_type": "markdown",
   "id": "37da61f5",
   "metadata": {},
   "source": [
    "We can see the p value of the t-test for 1969 is 0.0015 and the p value of the t-test for 1970 is 0.776 meaning that there was definitely a bias in 1969 that was fixed for 1970."
   ]
  }
 ],
 "metadata": {
  "kernelspec": {
   "display_name": "Python 3 (ipykernel)",
   "language": "python",
   "name": "python3"
  },
  "language_info": {
   "codemirror_mode": {
    "name": "ipython",
    "version": 3
   },
   "file_extension": ".py",
   "mimetype": "text/x-python",
   "name": "python",
   "nbconvert_exporter": "python",
   "pygments_lexer": "ipython3",
   "version": "3.9.12"
  }
 },
 "nbformat": 4,
 "nbformat_minor": 5
}
