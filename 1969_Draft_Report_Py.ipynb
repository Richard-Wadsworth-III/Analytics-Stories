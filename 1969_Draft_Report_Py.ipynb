{
 "cells": [
  {
   "cell_type": "markdown",
   "id": "2dc32ea8",
   "metadata": {},
   "source": [
    "# Vietnam Draft Lottery Analysis\n",
    "\n",
    "We'll need some modules to complete this, so I'll set up those modules in the first block"
   ]
  },
  {
   "cell_type": "code",
   "execution_count": null,
   "id": "7ab58649",
   "metadata": {},
   "outputs": [],
   "source": [
    "import pandas as pd\n"
   ]
  },
  {
   "cell_type": "markdown",
   "id": "c25ba82d",
   "metadata": {},
   "source": [
    "Then, read the Excel sheet in"
   ]
  },
  {
   "cell_type": "code",
   "execution_count": 4,
   "id": "70d5a253",
   "metadata": {},
   "outputs": [],
   "source": [
    "df = pd.read_excel(r'C:\\Users\\tsant\\Documents\\Data Science\\Data_Stories\\Chapter 02\\DraftData_TS.xlsx', sheet_name = 'Raw_Data')"
   ]
  },
  {
   "cell_type": "code",
   "execution_count": null,
   "id": "b0fa4f0b",
   "metadata": {},
   "outputs": [],
   "source": []
  }
 ],
 "metadata": {
  "kernelspec": {
   "display_name": "Python 3 (ipykernel)",
   "language": "python",
   "name": "python3"
  },
  "language_info": {
   "codemirror_mode": {
    "name": "ipython",
    "version": 3
   },
   "file_extension": ".py",
   "mimetype": "text/x-python",
   "name": "python",
   "nbconvert_exporter": "python",
   "pygments_lexer": "ipython3",
   "version": "3.9.12"
  }
 },
 "nbformat": 4,
 "nbformat_minor": 5
}
