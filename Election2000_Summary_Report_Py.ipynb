{
 "cells": [
  {
   "cell_type": "markdown",
   "id": "e427e116",
   "metadata": {},
   "source": [
    "# Who Won the 2000 Election: Bush or Gore?\n",
    "\n",
    "It turned out the selection process was biased towards certain months. The process was corrected for 1970. \n",
    "The data and story for the comes from :\n",
    "Winston, Wayne. *Danalytics Stories: Using Data to make Good Things Happen. * Indianapolis, John Wiley & Sons, Inc., 2021."
   ]
  },
  {
   "cell_type": "code",
   "execution_count": 22,
   "id": "1636ee7d",
   "metadata": {},
   "outputs": [],
   "source": [
    "#Set up the modules\n",
    "import pandas as pd\n",
    "import scipy.stats as stats\n",
    "import numpy as np\n",
    "import seaborn as sns\n",
    "import matplotlib.pyplot as plt"
   ]
  },
  {
   "cell_type": "code",
   "execution_count": 2,
   "id": "695ef30e",
   "metadata": {},
   "outputs": [],
   "source": [
    "#Import the dataset\n",
    "df = pd.read_excel(r'C:\\Users\\tsant\\Documents\\Data Science\\Data_Stories\\Chapter 03\\PalmBeachRegression.xlsx', sheet_name = 'All Counties')"
   ]
  },
  {
   "cell_type": "code",
   "execution_count": 3,
   "id": "83473f8d",
   "metadata": {},
   "outputs": [
    {
     "data": {
      "text/plain": [
       "(67, 9)"
      ]
     },
     "execution_count": 3,
     "metadata": {},
     "output_type": "execute_result"
    }
   ],
   "source": [
    "#Explore the data:\n",
    "df.shape #similar to dim() in r"
   ]
  },
  {
   "cell_type": "code",
   "execution_count": 4,
   "id": "8ae12aa3",
   "metadata": {},
   "outputs": [
    {
     "name": "stdout",
     "output_type": "stream",
     "text": [
      "<class 'pandas.core.frame.DataFrame'>\n",
      "RangeIndex: 67 entries, 0 to 66\n",
      "Data columns (total 9 columns):\n",
      " #   Column      Non-Null Count  Dtype  \n",
      "---  ------      --------------  -----  \n",
      " 0   county      67 non-null     object \n",
      " 1   Perot96     67 non-null     int64  \n",
      " 2   Buchanan00  67 non-null     int64  \n",
      " 3   Unnamed: 3  0 non-null      float64\n",
      " 4   Unnamed: 4  0 non-null      float64\n",
      " 5   Unnamed: 5  1 non-null      float64\n",
      " 6   Unnamed: 6  2 non-null      object \n",
      " 7   Unnamed: 7  0 non-null      float64\n",
      " 8   Unnamed: 8  2 non-null      object \n",
      "dtypes: float64(4), int64(2), object(3)\n",
      "memory usage: 4.8+ KB\n"
     ]
    }
   ],
   "source": [
    "df.info()\n",
    "#we need to extract the first 3 columns (or alternatively delete columns 4 - 10)\n"
   ]
  },
  {
   "cell_type": "code",
   "execution_count": 8,
   "id": "64900afd",
   "metadata": {},
   "outputs": [],
   "source": [
    "#Remove the scratch columns (only 1 - 3 have data)\n",
    "df1 = df.iloc[:,0:3]"
   ]
  },
  {
   "cell_type": "code",
   "execution_count": 9,
   "id": "088df8e9",
   "metadata": {},
   "outputs": [
    {
     "name": "stdout",
     "output_type": "stream",
     "text": [
      "<class 'pandas.core.frame.DataFrame'>\n",
      "RangeIndex: 67 entries, 0 to 66\n",
      "Data columns (total 3 columns):\n",
      " #   Column      Non-Null Count  Dtype \n",
      "---  ------      --------------  ----- \n",
      " 0   county      67 non-null     object\n",
      " 1   Perot96     67 non-null     int64 \n",
      " 2   Buchanan00  67 non-null     int64 \n",
      "dtypes: int64(2), object(1)\n",
      "memory usage: 1.7+ KB\n"
     ]
    }
   ],
   "source": [
    "df1.info()"
   ]
  },
  {
   "cell_type": "code",
   "execution_count": 12,
   "id": "850c48dc",
   "metadata": {},
   "outputs": [
    {
     "data": {
      "text/html": [
       "<div>\n",
       "<style scoped>\n",
       "    .dataframe tbody tr th:only-of-type {\n",
       "        vertical-align: middle;\n",
       "    }\n",
       "\n",
       "    .dataframe tbody tr th {\n",
       "        vertical-align: top;\n",
       "    }\n",
       "\n",
       "    .dataframe thead th {\n",
       "        text-align: right;\n",
       "    }\n",
       "</style>\n",
       "<table border=\"1\" class=\"dataframe\">\n",
       "  <thead>\n",
       "    <tr style=\"text-align: right;\">\n",
       "      <th></th>\n",
       "      <th>Perot96</th>\n",
       "      <th>Buchanan00</th>\n",
       "    </tr>\n",
       "  </thead>\n",
       "  <tbody>\n",
       "    <tr>\n",
       "      <th>count</th>\n",
       "      <td>67.000000</td>\n",
       "      <td>67.000000</td>\n",
       "    </tr>\n",
       "    <tr>\n",
       "      <th>mean</th>\n",
       "      <td>7220.537313</td>\n",
       "      <td>260.671642</td>\n",
       "    </tr>\n",
       "    <tr>\n",
       "      <th>std</th>\n",
       "      <td>8972.961339</td>\n",
       "      <td>449.924215</td>\n",
       "    </tr>\n",
       "    <tr>\n",
       "      <th>min</th>\n",
       "      <td>316.000000</td>\n",
       "      <td>9.000000</td>\n",
       "    </tr>\n",
       "    <tr>\n",
       "      <th>25%</th>\n",
       "      <td>1072.500000</td>\n",
       "      <td>46.500000</td>\n",
       "    </tr>\n",
       "    <tr>\n",
       "      <th>50%</th>\n",
       "      <td>3739.000000</td>\n",
       "      <td>120.000000</td>\n",
       "    </tr>\n",
       "    <tr>\n",
       "      <th>75%</th>\n",
       "      <td>8700.000000</td>\n",
       "      <td>285.500000</td>\n",
       "    </tr>\n",
       "    <tr>\n",
       "      <th>max</th>\n",
       "      <td>38964.000000</td>\n",
       "      <td>3407.000000</td>\n",
       "    </tr>\n",
       "  </tbody>\n",
       "</table>\n",
       "</div>"
      ],
      "text/plain": [
       "            Perot96   Buchanan00\n",
       "count     67.000000    67.000000\n",
       "mean    7220.537313   260.671642\n",
       "std     8972.961339   449.924215\n",
       "min      316.000000     9.000000\n",
       "25%     1072.500000    46.500000\n",
       "50%     3739.000000   120.000000\n",
       "75%     8700.000000   285.500000\n",
       "max    38964.000000  3407.000000"
      ]
     },
     "execution_count": 12,
     "metadata": {},
     "output_type": "execute_result"
    }
   ],
   "source": [
    "#Look for outliers\n",
    "\n",
    "df1.describe()\n"
   ]
  },
  {
   "cell_type": "code",
   "execution_count": 15,
   "id": "1056b349",
   "metadata": {},
   "outputs": [
    {
     "name": "stderr",
     "output_type": "stream",
     "text": [
      "C:\\Users\\tsant\\anaconda3\\lib\\site-packages\\seaborn\\_decorators.py:36: FutureWarning: Pass the following variable as a keyword arg: x. From version 0.12, the only valid positional argument will be `data`, and passing other arguments without an explicit keyword will result in an error or misinterpretation.\n",
      "  warnings.warn(\n"
     ]
    },
    {
     "data": {
      "text/plain": [
       "<AxesSubplot:xlabel='Buchanan00'>"
      ]
     },
     "execution_count": 15,
     "metadata": {},
     "output_type": "execute_result"
    },
    {
     "data": {
      "image/png": "[encoded data removed]",
      "text/plain": [
       "<Figure size 432x288 with 1 Axes>"
      ]
     },
     "metadata": {
      "needs_background": "light"
     },
     "output_type": "display_data"
    }
   ],
   "source": [
    "#Large std suggests outliers...\n",
    "#and to visualize\n",
    "#Boxplot\n",
    "sns.boxplot(df1['Buchanan00'])"
   ]
  },
  {
   "cell_type": "code",
   "execution_count": 23,
   "id": "fd62a197",
   "metadata": {
    "scrolled": true
   },
   "outputs": [
    {
     "data": {
      "image/png": "[encoded data removed]",
      "text/plain": [
       "<Figure size 432x288 with 1 Axes>"
      ]
     },
     "metadata": {
      "needs_background": "light"
     },
     "output_type": "display_data"
    }
   ],
   "source": [
    "#Scatterplot\n",
    "plt.scatter(df1['Perot96'], df1['Buchanan00'])\n",
    "plt.show()"
   ]
  },
  {
   "cell_type": "code",
   "execution_count": 24,
   "id": "e2aaab4e",
   "metadata": {},
   "outputs": [
    {
     "data": {
      "text/plain": [
       "(array([54.,  9.,  3.,  0.,  0.,  0.,  0.,  0.,  0.,  1.]),\n",
       " array([   9. ,  348.8,  688.6, 1028.4, 1368.2, 1708. , 2047.8, 2387.6,\n",
       "        2727.4, 3067.2, 3407. ]),\n",
       " <BarContainer object of 10 artists>)"
      ]
     },
     "execution_count": 24,
     "metadata": {},
     "output_type": "execute_result"
    },
    {
     "data": {
      "image/png": "[encoded data removed]",
      "text/plain": [
       "<Figure size 432x288 with 1 Axes>"
      ]
     },
     "metadata": {
      "needs_background": "light"
     },
     "output_type": "display_data"
    }
   ],
   "source": [
    "#Histogram\n",
    "plt.hist(df1['Buchanan00'])"
   ]
  },
  {
   "cell_type": "markdown",
   "id": "46f36d87",
   "metadata": {},
   "source": [
    "Clearly, Buchanan has an outlying data point in 2000"
   ]
  },
  {
   "cell_type": "code",
   "execution_count": 25,
   "id": "92984442",
   "metadata": {},
   "outputs": [
    {
     "name": "stdout",
     "output_type": "stream",
     "text": [
      "0     0.005214\n",
      "1    -0.420266\n",
      "2    -0.028377\n",
      "3    -0.438181\n",
      "4     0.692701\n",
      "        ...   \n",
      "62   -0.500884\n",
      "63    0.526988\n",
      "64   -0.480729\n",
      "65   -0.315016\n",
      "66   -0.386676\n",
      "Name: Buchanan00, Length: 67, dtype: float64\n"
     ]
    }
   ],
   "source": [
    "#Calculate z-scores for the Buchanan data\n",
    "zscores = stats.zscore(df1['Buchanan00'])\n",
    "print(zscores)"
   ]
  },
  {
   "cell_type": "markdown",
   "id": "7912a0d8",
   "metadata": {},
   "source": [
    "I can put this array into my dataframe and I can look for the outlier, but the results are the same. Since I won't use z-scores again here, I'll just move on with my dataframe as is."
   ]
  },
  {
   "cell_type": "code",
   "execution_count": 57,
   "id": "335cfa7b",
   "metadata": {},
   "outputs": [
    {
     "name": "stdout",
     "output_type": "stream",
     "text": [
      "260.67164179104475 446.55394914200394 -1078.990205634967 1600.3334892170565\n",
      "0     263\n",
      "1      73\n",
      "2     248\n",
      "3      65\n",
      "4     570\n",
      "     ... \n",
      "62     37\n",
      "63    496\n",
      "64     46\n",
      "65    120\n",
      "66     88\n",
      "Name: Buchanan00, Length: 67, dtype: int64\n",
      "True\n",
      "        county  Perot96  Buchanan00\n",
      "0      Alachua     8072         263\n",
      "1        Baker      667          73\n",
      "2          Bay     5922         248\n",
      "3     Bradford      819          65\n",
      "4      Brevard    25249         570\n",
      "..         ...      ...         ...\n",
      "62       Union      425          37\n",
      "63     Volusia    17319         496\n",
      "64     Wakulla     1091          46\n",
      "65      Walton     2342         120\n",
      "66  Washington     1287          88\n",
      "\n",
      "[66 rows x 3 columns]\n",
      "<class 'pandas.core.frame.DataFrame'>\n",
      "Int64Index: 66 entries, 0 to 66\n",
      "Data columns (total 3 columns):\n",
      " #   Column      Non-Null Count  Dtype \n",
      "---  ------      --------------  ----- \n",
      " 0   county      66 non-null     object\n",
      " 1   Perot96     66 non-null     int64 \n",
      " 2   Buchanan00  66 non-null     int64 \n",
      "dtypes: int64(2), object(1)\n",
      "memory usage: 2.1+ KB\n"
     ]
    }
   ],
   "source": [
    "#Calculate some statistics to evaluate whether there are data points outside 3 standard deviations.\n",
    "meanB = np.mean(df1['Buchanan00'])\n",
    "stdB = np.std(df1['Buchanan00'])\n",
    "tmin = meanB-(3*stdB)\n",
    "tmax = meanB+(3*stdB)\n",
    "#print(meanB, stdB, tmin, tmax)\n",
    "#Now I need to find the index of my outlier\n",
    "j = []\n",
    "z = df1['Buchanan00'] #isolate the list of data\n",
    "print(z)\n",
    "for i, elem in enumerate(z): #when I come across the outlier,\n",
    "    if elem < tmin or elem > tmax:\n",
    "        j.append(i) #I want to capture the index in a list\n",
    "       # print(elem)\n",
    "       # print(j)\n",
    "res = True in (ele < tmin or ele > tmax for ele in df1['Buchanan00'])\n",
    "print(res)\n",
    "df2 = df1.drop(index = j) #This will remove the rows with that outlier indeces\n",
    "print(df2)\n",
    "df2.info()"
   ]
  },
  {
   "cell_type": "code",
   "execution_count": 58,
   "id": "4dc25982",
   "metadata": {},
   "outputs": [
    {
     "name": "stderr",
     "output_type": "stream",
     "text": [
      "C:\\Users\\tsant\\anaconda3\\lib\\site-packages\\seaborn\\_decorators.py:36: FutureWarning: Pass the following variables as keyword args: x, y. From version 0.12, the only valid positional argument will be `data`, and passing other arguments without an explicit keyword will result in an error or misinterpretation.\n",
      "  warnings.warn(\n"
     ]
    },
    {
     "data": {
      "text/plain": [
       "<AxesSubplot:xlabel='Perot96', ylabel='Buchanan00'>"
      ]
     },
     "execution_count": 58,
     "metadata": {},
     "output_type": "execute_result"
    },
    {
     "data": {
      "image/png": "[encoded data removed]",
      "text/plain": [
       "<Figure size 432x288 with 1 Axes>"
      ]
     },
     "metadata": {
      "needs_background": "light"
     },
     "output_type": "display_data"
    }
   ],
   "source": [
    "#Scatter plot with regression line\n",
    "sns.regplot(df1['Perot96'],df1['Buchanan00'])"
   ]
  },
  {
   "cell_type": "code",
   "execution_count": 61,
   "id": "d6f754a8",
   "metadata": {},
   "outputs": [
    {
     "name": "stdout",
     "output_type": "stream",
     "text": [
      "0.7162634469981759\n"
     ]
    }
   ],
   "source": [
    "slope, intercept, r, p, std_err = stats.linregress(df1['Perot96'], df1['Buchanan00'])\n",
    "\n",
    "print(r)"
   ]
  },
  {
   "cell_type": "code",
   "execution_count": 59,
   "id": "7bff3911",
   "metadata": {},
   "outputs": [
    {
     "name": "stderr",
     "output_type": "stream",
     "text": [
      "C:\\Users\\tsant\\anaconda3\\lib\\site-packages\\seaborn\\_decorators.py:36: FutureWarning: Pass the following variables as keyword args: x, y. From version 0.12, the only valid positional argument will be `data`, and passing other arguments without an explicit keyword will result in an error or misinterpretation.\n",
      "  warnings.warn(\n"
     ]
    },
    {
     "data": {
      "text/plain": [
       "<AxesSubplot:xlabel='Perot96', ylabel='Buchanan00'>"
      ]
     },
     "execution_count": 59,
     "metadata": {},
     "output_type": "execute_result"
    },
    {
     "data": {
      "image/png": "[encoded data removed]",
      "text/plain": [
       "<Figure size 432x288 with 1 Axes>"
      ]
     },
     "metadata": {
      "needs_background": "light"
     },
     "output_type": "display_data"
    }
   ],
   "source": [
    "#Scatter plot and regression line with outlier removed\n",
    "sns.regplot(df2['Perot96'],df2['Buchanan00'])"
   ]
  },
  {
   "cell_type": "code",
   "execution_count": 63,
   "id": "6c90de5d",
   "metadata": {},
   "outputs": [
    {
     "name": "stdout",
     "output_type": "stream",
     "text": [
      "0.9225873717594879\n"
     ]
    }
   ],
   "source": [
    "slope, intercept, r, p, std_err = stats.linregress(df2['Perot96'], df2['Buchanan00'])\n",
    "\n",
    "print(r)"
   ]
  },
  {
   "cell_type": "markdown",
   "id": "7943aa99",
   "metadata": {},
   "source": [
    "These values are different than my other analyses. However, it is clear that the regression line fits much better with the outliers removed.\n",
    "It seems there is a compelling argument to be made that the votes in Palm Beach County have been overestimated for Buchanan in 2000. And given the ambiguity of the Butterfly Ballot, it seems that many of the votes Buchanan received were intended for Gore. By 'many', we're talking thousands...so not *that* many. But it's an order of magnitude more than was required to push the hundreds that Bush won by over to Gore."
   ]
  }
 ],
 "metadata": {
  "kernelspec": {
   "display_name": "Python 3 (ipykernel)",
   "language": "python",
   "name": "python3"
  },
  "language_info": {
   "codemirror_mode": {
    "name": "ipython",
    "version": 3
   },
   "file_extension": ".py",
   "mimetype": "text/x-python",
   "name": "python",
   "nbconvert_exporter": "python",
   "pygments_lexer": "ipython3",
   "version": "3.9.12"
  }
 },
 "nbformat": 4,
 "nbformat_minor": 5
}
